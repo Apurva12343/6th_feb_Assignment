{
 "cells": [
  {
   "cell_type": "code",
   "execution_count": 1,
   "id": "45ad880d-4720-4a69-80a0-cf2002c78f73",
   "metadata": {},
   "outputs": [],
   "source": [
    "# Q1. Create a function which will take a list as an argument and return the product of all the numbers  after creating a flat list. \n",
    "# Use the below-given list as an argument for your function. \n",
    "# list1 = [1,2,3,4, [44,55,66, True], False, (34,56,78,89,34), {1,2,3,3,2,1}, {1:34, \"key2\": [55, 67, 78, 89], 4: (45,  22, 61, 34)}, [56, 'data science'], 'Machine Learning'] \n",
    "# Note: you must extract numeric keys and values of the dictionary also."
   ]
  },
  {
   "cell_type": "code",
   "execution_count": 2,
   "id": "45897db0-d871-4f7b-9da1-c5e12b4d86c0",
   "metadata": {},
   "outputs": [
    {
     "name": "stdout",
     "output_type": "stream",
     "text": [
      "Flat list : [1, 2, 3, 4, 44, 55, 66, True, False, 34, 56, 78, 89, 34, 1, 2, 3, 1, 34, 'key2', 55, 67, 78, 89, 4, 45, 22, 61, 34, 56, 'data science', 'Machine Learning']\n",
      "\n",
      "Product is: 4134711838987085478833841242112000\n"
     ]
    }
   ],
   "source": [
    "def flat_List_Creation(lst):\n",
    "    flat_lst = []\n",
    "    \n",
    "    for item in lst:\n",
    "        \n",
    "        if isinstance(item, (int, float, str)):\n",
    "            flat_lst.append(item)\n",
    "            \n",
    "        elif isinstance(item, dict):\n",
    "            for key, value in item.items():\n",
    "                if isinstance(key, (int, float, str)):\n",
    "                    flat_lst.append(key)\n",
    "                else:\n",
    "                    flat_lst.extend(flat_List_Creation(key))\n",
    "                    \n",
    "                if isinstance(value, (int, float, str)):\n",
    "                    flat_lst.append(value)\n",
    "                else:\n",
    "                    flat_lst.extend(flat_List_Creation(value))\n",
    "            \n",
    "        else:\n",
    "            flat_lst.extend(flat_List_Creation(item))\n",
    "            \n",
    "    return flat_lst\n",
    "    \n",
    "def num_Product(flat_lst):\n",
    "    product = 1\n",
    "    \n",
    "    for ele in flat_lst:\n",
    "        \n",
    "        if type(ele) == int or type(ele) == float:\n",
    "            product *= ele\n",
    "       \n",
    "    print(f\"\\nProduct is: {product}\")\n",
    "        \n",
    "\n",
    "\n",
    "list1 = [1,2,3,4, [44,55,66, True], False, (34,56,78,89,34), {1,2,3,3,2,1}, {1:34, \"key2\": [55, 67, 78, 89], 4: (45, 22, 61, 34)}, [56, 'data science'], 'Machine Learning']\n",
    "\n",
    "flat_lst = flat_List_Creation(list1) \n",
    "print(f\"Flat list : {flat_lst}\")\n",
    "num_Product(flat_lst)"
   ]
  },
  {
   "cell_type": "code",
   "execution_count": 3,
   "id": "60d8517c-2415-497c-a5fb-9009131c5b7c",
   "metadata": {},
   "outputs": [],
   "source": [
    "# Q2. Write a python program for encrypting a message sent to you by your friend. The logic of encryption  should be such that, for a the output should be z. For b, the output should be y. For c, the output should  be x respectively. Also, the whitespace should be replaced with a dollar sign. Keep the punctuation  marks unchanged. \n",
    "# Input Sentence: I want to become a Data Scientist. \n",
    "# Encrypt the above input sentence using the program you just created. \n",
    "# Note: Convert the given input sentence into lowercase before encrypting. The final output should be  lowercase. "
   ]
  },
  {
   "cell_type": "code",
   "execution_count": 4,
   "id": "78dd7db5-2a5b-4b46-a326-2b683a85fc9e",
   "metadata": {},
   "outputs": [
    {
     "name": "stdout",
     "output_type": "stream",
     "text": [
      "The encrypted message is : r$dzmg$gl$yvxlnv$z$wzgz$hxrvmgrhg.\n"
     ]
    }
   ],
   "source": [
    "def encrypt(msg):\n",
    "    \"\"\"The function helps in encrypting your message!\"\"\"\n",
    "    \n",
    "    encryption_dict = {\"a\": \"z\", \"b\": \"y\", \"c\": \"x\", \"d\": \"w\", \"e\": \"v\",\"f\": \"u\",\"g\": \"t\",\"h\": \"s\",\n",
    "                       \"i\": \"r\",\"j\": \"q\",\"k\": \"p\",\"l\": \"o\",\"m\": \"n\",\"n\": \"m\",\"o\": \"l\",\"p\": \"k\",\n",
    "                       \"q\": \"j\",\"r\": \"i\",\"s\": \"h\",\"t\": \"g\",\"u\": \"f\",\"v\": \"e\",\"w\": \"d\",\"x\": \"c\",\n",
    "                       \"y\": \"b\",\"z\": \"a\"}\n",
    "    \n",
    "    msg = msg.lower()\n",
    "    encrypted_msg = \"\"\n",
    "    \n",
    "    for char in msg:\n",
    "        if char.isalpha():\n",
    "            char = encryption_dict[char]\n",
    "            \n",
    "        if char == \" \":\n",
    "            char = \"$\"\n",
    "            \n",
    "        encrypted_msg += char\n",
    "        \n",
    "    return encrypted_msg\n",
    "\n",
    "\n",
    "msg = \"I want to become a Data Scientist.\"\n",
    "encrypted_msg = encrypt(msg)\n",
    "print(f\"The encrypted message is : {encrypted_msg}\")"
   ]
  },
  {
   "cell_type": "code",
   "execution_count": null,
   "id": "d471e674-cf59-4e78-9b02-1ccd0e2db2a6",
   "metadata": {},
   "outputs": [],
   "source": []
  }
 ],
 "metadata": {
  "kernelspec": {
   "display_name": "Python 3 (ipykernel)",
   "language": "python",
   "name": "python3"
  },
  "language_info": {
   "codemirror_mode": {
    "name": "ipython",
    "version": 3
   },
   "file_extension": ".py",
   "mimetype": "text/x-python",
   "name": "python",
   "nbconvert_exporter": "python",
   "pygments_lexer": "ipython3",
   "version": "3.10.6"
  }
 },
 "nbformat": 4,
 "nbformat_minor": 5
}
